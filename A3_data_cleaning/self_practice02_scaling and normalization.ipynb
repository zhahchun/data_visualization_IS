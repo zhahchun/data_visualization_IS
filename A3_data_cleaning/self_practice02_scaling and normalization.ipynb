{
 "cells": [
  {
   "cell_type": "code",
   "execution_count": 26,
   "id": "55c81de4",
   "metadata": {},
   "outputs": [],
   "source": [
    "import pandas as pd\n",
    "import numpy as np\n",
    "\n",
    "# for Box-Cox Transformation (Normalization)\n",
    "from scipy import stats\n",
    "\n",
    "# for scaling\n",
    "from mlxtend.preprocessing import minmax_scaling\n",
    "\n",
    "# plotting modules\n",
    "import seaborn as sns\n",
    "import matplotlib.pyplot as plt"
   ]
  },
  {
   "cell_type": "code",
   "execution_count": 27,
   "id": "df37a9ac",
   "metadata": {},
   "outputs": [],
   "source": [
    "kickstarters_2018 = pd.read_csv('ks-projects-201801.csv')"
   ]
  },
  {
   "cell_type": "code",
   "execution_count": 28,
   "id": "b1fe5e56",
   "metadata": {},
   "outputs": [
    {
     "name": "stdout",
     "output_type": "stream",
     "text": [
      "Original Goal\n",
      "Previw:\n",
      "    usd_goal_real\n",
      "0        1533.95\n",
      "1       30000.00\n",
      "2       45000.00\n",
      "3        5000.00\n",
      "4       19500.00\n",
      "Minimun value: 0.01 \n",
      "Maximun Value: 166361390.7\n",
      "______________________________\n",
      "Scaled Goal\n",
      "Previw:\n",
      "    usd_goal_real\n",
      "0       0.000009\n",
      "1       0.000180\n",
      "2       0.000270\n",
      "3       0.000030\n",
      "4       0.000117\n",
      "Minimun value: 0.0 \n",
      "Maximun Value: 1.0\n"
     ]
    },
    {
     "name": "stderr",
     "output_type": "stream",
     "text": [
      "C:\\Users\\ftstc\\AppData\\Local\\Temp\\ipykernel_17284\\3336026915.py:5: FutureWarning: Calling float on a single element Series is deprecated and will raise a TypeError in the future. Use float(ser.iloc[0]) instead\n",
      "  print('Minimun value:', float(original_goal_real.min()), '\\nMaximun Value:', float(original_goal_real.max()))\n",
      "C:\\Users\\ftstc\\AppData\\Local\\Temp\\ipykernel_17284\\3336026915.py:8: FutureWarning: Calling float on a single element Series is deprecated and will raise a TypeError in the future. Use float(ser.iloc[0]) instead\n",
      "  print('Minimun value:', float(scaled_goal_real.min()), '\\nMaximun Value:', float(scaled_goal_real.max()))\n"
     ]
    }
   ],
   "source": [
    "original_goal_real = pd.DataFrame(kickstarters_2018.usd_goal_real)\n",
    "scaled_goal_real = minmax_scaling(original_goal_real, columns = ['usd_goal_real'])\n",
    "\n",
    "print('Original Goal\\nPreviw:\\n', original_goal_real.head())\n",
    "print('Minimun value:', float(original_goal_real.min()), '\\nMaximun Value:', float(original_goal_real.max()))\n",
    "print('_' * 30)\n",
    "print('Scaled Goal\\nPreviw:\\n', scaled_goal_real.head())\n",
    "print('Minimun value:', float(scaled_goal_real.min()), '\\nMaximun Value:', float(scaled_goal_real.max()))"
   ]
  },
  {
   "cell_type": "code",
   "execution_count": 29,
   "id": "47cf530d",
   "metadata": {},
   "outputs": [
    {
     "name": "stdout",
     "output_type": "stream",
     "text": [
      "0     1533.95\n",
      "1    30000.00\n",
      "2    45000.00\n",
      "3     5000.00\n",
      "4    19500.00\n",
      "Name: usd_goal_real, dtype: float64\n",
      "0    0.000009\n",
      "1    0.000180\n",
      "2    0.000270\n",
      "3    0.000030\n",
      "4    0.000117\n",
      "Name: usd_goal_real, dtype: float64\n"
     ]
    }
   ],
   "source": [
    "print(kickstarters_2018['usd_goal_real'].head())\n",
    "# print(kickstarters_2018.shape)\n",
    "\n",
    "# drop the column\n",
    "kickstarters_2018 = kickstarters_2018.drop(columns = ['usd_goal_real'])\n",
    "# print(kickstarters_2018.shape)\n",
    "\n",
    "# add scaled column back to df\n",
    "kickstarters_2018['usd_goal_real'] = scaled_goal_real.usd_goal_real\n",
    "# print(kickstarters_2018.shape)\n",
    "print(kickstarters_2018['usd_goal_real'].head())"
   ]
  },
  {
   "cell_type": "code",
   "execution_count": 30,
   "id": "dbbf1beb",
   "metadata": {},
   "outputs": [],
   "source": [
    "original_goal = pd.DataFrame(kickstarters_2018.goal)\n",
    "scaled_goal = minmax_scaling(original_goal, columns = ['goal'])\n",
    "# print(original_goal.head())\n",
    "# print(scaled_goal.head())"
   ]
  },
  {
   "cell_type": "code",
   "execution_count": 31,
   "id": "0ad341e4",
   "metadata": {},
   "outputs": [],
   "source": [
    "# print(kickstarters_2018['goal'].head())\n",
    "kickstarters_2018 = kickstarters_2018.drop(columns = ['goal'])\n",
    "kickstarters_2018['goal'] = scaled_goal\n",
    "# print(kickstarters_2018['goal'].head())"
   ]
  },
  {
   "cell_type": "code",
   "execution_count": 32,
   "id": "41e8c457",
   "metadata": {},
   "outputs": [
    {
     "name": "stdout",
     "output_type": "stream",
     "text": [
      "0     False\n",
      "1      True\n",
      "2      True\n",
      "3      True\n",
      "4      True\n",
      "5      True\n",
      "6      True\n",
      "7      True\n",
      "8      True\n",
      "9      True\n",
      "10    False\n",
      "11     True\n",
      "12    False\n",
      "13    False\n",
      "14     True\n",
      "Name: usd_pledged_real, dtype: bool\n",
      "1     10.165142\n",
      "2      6.468598\n",
      "3      0.000000\n",
      "4      9.129277\n",
      "5     15.836853\n",
      "6      9.029275\n",
      "7      7.521421\n",
      "8     12.287535\n",
      "9     11.792075\n",
      "11    13.080869\n",
      "14    17.605187\n",
      "15     8.099304\n",
      "16     7.317866\n",
      "17     8.364741\n",
      "18     6.651330\n",
      "Name: usd_pledged_real, dtype: float64\n"
     ]
    }
   ],
   "source": [
    "index_positive_pledged_real = kickstarters_2018.usd_pledged_real > 0\n",
    "print(index_positive_pledged_real.head(15)) # for chech the index\n",
    "positive_pledged_real = kickstarters_2018.usd_pledged_real.loc[index_positive_pledged_real]\n",
    "normalized_pledged_real = pd.Series(stats.boxcox(positive_pledged_real)[0], name = 'usd_pledged_real'\n",
    "                                    , index = positive_pledged_real.index)\n",
    "print(normalized_pledged_real.head(15)) # for chech the index"
   ]
  },
  {
   "cell_type": "code",
   "execution_count": 33,
   "id": "ce634c8f",
   "metadata": {},
   "outputs": [
    {
     "name": "stdout",
     "output_type": "stream",
     "text": [
      "0      0.000000\n",
      "1     10.165142\n",
      "2      6.468598\n",
      "3      0.000000\n",
      "4      9.129277\n",
      "5     15.836853\n",
      "6      9.029275\n",
      "7      7.521421\n",
      "8     12.287535\n",
      "9     11.792075\n",
      "10     0.000000\n",
      "11    13.080869\n",
      "12     0.000000\n",
      "13     0.000000\n",
      "14    17.605187\n",
      "Name: usd_pledged_real, dtype: float64\n"
     ]
    }
   ],
   "source": [
    "# print(kickstarters_2018.shape)\n",
    "kickstarters_2018 = kickstarters_2018.drop(columns = ['usd_pledged_real'])\n",
    "kickstarters_2018 = kickstarters_2018.join(normalized_pledged_real)\n",
    "# print(kickstarters_2018.shape)\n",
    "# print(kickstarters_2018['usd_pledged_real'].head(15)) # check if index match\n",
    "kickstarters_2018 = kickstarters_2018.fillna(0)\n",
    "print(kickstarters_2018['usd_pledged_real'].head(15))"
   ]
  },
  {
   "cell_type": "code",
   "execution_count": 35,
   "id": "b982f718",
   "metadata": {},
   "outputs": [
    {
     "name": "stdout",
     "output_type": "stream",
     "text": [
      "0      0.000000\n",
      "1      6.898061\n",
      "2      4.396085\n",
      "3      0.000000\n",
      "4      6.217916\n",
      "5     10.416919\n",
      "6      6.151486\n",
      "7      5.131480\n",
      "8      8.251373\n",
      "9      7.939852\n",
      "10     0.000000\n",
      "11     8.745100\n",
      "12     0.000000\n",
      "13     0.000000\n",
      "14    11.137003\n",
      "Name: pledged, dtype: float64\n"
     ]
    }
   ],
   "source": [
    "index_positive_pledged = kickstarters_2018.pledged > 0\n",
    "# print(index_positive_pledged.head(15))\n",
    "positive_pledged = kickstarters_2018.pledged.loc[index_positive_pledged]\n",
    "normalized_pledged = pd.Series(stats.boxcox(positive_pledged)[0], name = 'pledged', index = positive_pledged.index)\n",
    "# print(normalized_pledged.head(15))\n",
    "\n",
    "# print(kickstarters_2018.shape)\n",
    "kickstarters_2018 = kickstarters_2018.drop(columns = ['pledged'])\n",
    "# print(kickstarters_2018.shape)\n",
    "kickstarters_2018 = kickstarters_2018.join(normalized_pledged)\n",
    "# print(kickstarters_2018.shape)\n",
    "kickstarters_2018 = kickstarters_2018.fillna(0)\n",
    "print(kickstarters_2018.pledged.head(15))"
   ]
  },
  {
   "cell_type": "code",
   "execution_count": 36,
   "id": "95fbcc6f",
   "metadata": {},
   "outputs": [],
   "source": [
    "kickstarters_2018.to_csv('ks-projects-201801.csv', index = False)"
   ]
  },
  {
   "cell_type": "code",
   "execution_count": null,
   "id": "2f0fd384",
   "metadata": {},
   "outputs": [],
   "source": []
  },
  {
   "cell_type": "code",
   "execution_count": null,
   "id": "b9d09fb0",
   "metadata": {},
   "outputs": [],
   "source": []
  },
  {
   "cell_type": "code",
   "execution_count": null,
   "id": "1d37dd4f",
   "metadata": {},
   "outputs": [],
   "source": []
  },
  {
   "cell_type": "code",
   "execution_count": null,
   "id": "6dada150",
   "metadata": {},
   "outputs": [],
   "source": []
  },
  {
   "cell_type": "code",
   "execution_count": null,
   "id": "f11f4b2c",
   "metadata": {},
   "outputs": [],
   "source": []
  }
 ],
 "metadata": {
  "kernelspec": {
   "display_name": "Python 3 (ipykernel)",
   "language": "python",
   "name": "python3"
  },
  "language_info": {
   "codemirror_mode": {
    "name": "ipython",
    "version": 3
   },
   "file_extension": ".py",
   "mimetype": "text/x-python",
   "name": "python",
   "nbconvert_exporter": "python",
   "pygments_lexer": "ipython3",
   "version": "3.10.13"
  }
 },
 "nbformat": 4,
 "nbformat_minor": 5
}
