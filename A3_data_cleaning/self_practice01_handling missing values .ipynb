{
 "cells": [
  {
   "cell_type": "code",
   "execution_count": 2,
   "id": "256e88ff",
   "metadata": {},
   "outputs": [],
   "source": [
    "import pandas as pd\n",
    "import numpy as np"
   ]
  },
  {
   "cell_type": "code",
   "execution_count": 4,
   "id": "b84a69d6",
   "metadata": {},
   "outputs": [
    {
     "name": "stdout",
     "output_type": "stream",
     "text": [
      "  Permit Number  Permit Type            Permit Type Definition  \\\n",
      "0   2.01505E+11            4                      sign - erect   \n",
      "1   2.01604E+11            4                      sign - erect   \n",
      "2   2.01605E+11            3  additions alterations or repairs   \n",
      "3   2.01611E+11            8            otc alterations permit   \n",
      "4   2.01611E+11            6                       demolitions   \n",
      "\n",
      "  Permit Creation Date Block  Lot  Street Number Street Number Suffix  \\\n",
      "0             5/6/2015   326   23            140                  NaN   \n",
      "1            4/19/2016   306    7            440                  NaN   \n",
      "2            5/27/2016   595  203           1647                  NaN   \n",
      "3            11/7/2016   156   11           1230                  NaN   \n",
      "4           11/28/2016   342    1            950                  NaN   \n",
      "\n",
      "  Street Name Street Suffix  ...  Existing Construction Type  \\\n",
      "0       Ellis            St  ...                         3.0   \n",
      "1       Geary            St  ...                         3.0   \n",
      "2     Pacific            Av  ...                         1.0   \n",
      "3     Pacific            Av  ...                         5.0   \n",
      "4      Market            St  ...                         3.0   \n",
      "\n",
      "  Existing Construction Type Description Proposed Construction Type  \\\n",
      "0                          constr type 3                        NaN   \n",
      "1                          constr type 3                        NaN   \n",
      "2                          constr type 1                        1.0   \n",
      "3                         wood frame (5)                        5.0   \n",
      "4                          constr type 3                        NaN   \n",
      "\n",
      "  Proposed Construction Type Description Site Permit Supervisor District  \\\n",
      "0                                    NaN         NaN                 3.0   \n",
      "1                                    NaN         NaN                 3.0   \n",
      "2                          constr type 1         NaN                 3.0   \n",
      "3                         wood frame (5)         NaN                 3.0   \n",
      "4                                    NaN         NaN                 6.0   \n",
      "\n",
      "  Neighborhoods - Analysis Boundaries  Zipcode  \\\n",
      "0                          Tenderloin  94102.0   \n",
      "1                          Tenderloin  94102.0   \n",
      "2                        Russian Hill  94109.0   \n",
      "3                            Nob Hill  94109.0   \n",
      "4                          Tenderloin  94102.0   \n",
      "\n",
      "                                    Location     Record ID  \n",
      "0  (37.785719256680785, -122.40852313194863)  1.380610e+12  \n",
      "1   (37.78733980600732, -122.41063199757738)  1.420160e+12  \n",
      "2    (37.7946573324287, -122.42232562979227)  1.424860e+12  \n",
      "3   (37.79595867909168, -122.41557405519474)  1.443570e+12  \n",
      "4   (37.78315261897309, -122.40950883997789)  1.445480e+11  \n",
      "\n",
      "[5 rows x 43 columns]\n"
     ]
    },
    {
     "name": "stderr",
     "output_type": "stream",
     "text": [
      "C:\\Users\\ftstc\\AppData\\Local\\Temp\\ipykernel_12124\\2608501166.py:1: DtypeWarning: Columns (22,32) have mixed types. Specify dtype option on import or set low_memory=False.\n",
      "  sf_permits = pd.read_csv('Building_Permits.csv')\n"
     ]
    }
   ],
   "source": [
    "sf_permits = pd.read_csv('Building_Permits.csv')\n",
    "print(sf_permits.head())"
   ]
  },
  {
   "cell_type": "code",
   "execution_count": 5,
   "id": "99ba3438",
   "metadata": {},
   "outputs": [
    {
     "name": "stdout",
     "output_type": "stream",
     "text": [
      "Missong ration: 26.26002315058403\n"
     ]
    }
   ],
   "source": [
    "total_cells = np.product(sf_permits.shape)\n",
    "missing_values_count = sf_permits.isnull().sum()\n",
    "total_missing = missing_values_count.sum()\n",
    "percent_missing = (total_missing/ total_cells) * 100\n",
    "print('Missong ration:', percent_missing)"
   ]
  },
  {
   "cell_type": "code",
   "execution_count": 11,
   "id": "1b931006",
   "metadata": {},
   "outputs": [
    {
     "name": "stdout",
     "output_type": "stream",
     "text": [
      "(0, 43)\n",
      "(198900, 12)\n",
      "number of column with na dropped: 31\n"
     ]
    }
   ],
   "source": [
    "sf_permits_drop_narow = sf_permits.dropna()\n",
    "print(sf_permits_drop_narow.shape)\n",
    "sf_permits_drop_nacolumn = sf_permits.dropna(axis = 1)\n",
    "print(sf_permits_drop_nacolumn.shape)\n",
    "\n",
    "column_num_dropped = sf_permits.shape[1] - sf_permits_drop_nacolumn.shape[1]\n",
    "print('number of column with na dropped:', column_num_dropped)"
   ]
  },
  {
   "cell_type": "code",
   "execution_count": 14,
   "id": "b0ea51f8",
   "metadata": {},
   "outputs": [
    {
     "name": "stdout",
     "output_type": "stream",
     "text": [
      "  Permit Number  Permit Type            Permit Type Definition  \\\n",
      "0   2.01505E+11            4                      sign - erect   \n",
      "1   2.01604E+11            4                      sign - erect   \n",
      "2   2.01605E+11            3  additions alterations or repairs   \n",
      "3   2.01611E+11            8            otc alterations permit   \n",
      "4   2.01611E+11            6                       demolitions   \n",
      "\n",
      "  Permit Creation Date Block  Lot  Street Number Street Number Suffix  \\\n",
      "0             5/6/2015   326   23            140                    A   \n",
      "1            4/19/2016   306    7            440                    A   \n",
      "2            5/27/2016   595  203           1647                    A   \n",
      "3            11/7/2016   156   11           1230                    A   \n",
      "4           11/28/2016   342    1            950                    A   \n",
      "\n",
      "  Street Name Street Suffix  ...  Existing Construction Type  \\\n",
      "0       Ellis            St  ...                         3.0   \n",
      "1       Geary            St  ...                         3.0   \n",
      "2     Pacific            Av  ...                         1.0   \n",
      "3     Pacific            Av  ...                         5.0   \n",
      "4      Market            St  ...                         3.0   \n",
      "\n",
      "  Existing Construction Type Description Proposed Construction Type  \\\n",
      "0                          constr type 3                        1.0   \n",
      "1                          constr type 3                        1.0   \n",
      "2                          constr type 1                        1.0   \n",
      "3                         wood frame (5)                        5.0   \n",
      "4                          constr type 3                        1.0   \n",
      "\n",
      "  Proposed Construction Type Description Site Permit Supervisor District  \\\n",
      "0                          constr type 1           Y                 3.0   \n",
      "1                          constr type 1           Y                 3.0   \n",
      "2                          constr type 1           Y                 3.0   \n",
      "3                         wood frame (5)           Y                 3.0   \n",
      "4                          constr type 1           Y                 6.0   \n",
      "\n",
      "  Neighborhoods - Analysis Boundaries  Zipcode  \\\n",
      "0                          Tenderloin  94102.0   \n",
      "1                          Tenderloin  94102.0   \n",
      "2                        Russian Hill  94109.0   \n",
      "3                            Nob Hill  94109.0   \n",
      "4                          Tenderloin  94102.0   \n",
      "\n",
      "                                    Location     Record ID  \n",
      "0  (37.785719256680785, -122.40852313194863)  1.380610e+12  \n",
      "1   (37.78733980600732, -122.41063199757738)  1.420160e+12  \n",
      "2    (37.7946573324287, -122.42232562979227)  1.424860e+12  \n",
      "3   (37.79595867909168, -122.41557405519474)  1.443570e+12  \n",
      "4   (37.78315261897309, -122.40950883997789)  1.445480e+11  \n",
      "\n",
      "[5 rows x 43 columns]\n"
     ]
    }
   ],
   "source": [
    "sf_permits_fillna = sf_permits.fillna(method = 'bfill', axis = 0).fillna(0)\n",
    "print(sf_permits_fillna.head())"
   ]
  },
  {
   "cell_type": "code",
   "execution_count": 15,
   "id": "572cab13",
   "metadata": {},
   "outputs": [],
   "source": [
    "sf_permits_fillna.to_csv('Building_Permits_cleaned.csv', index = False)"
   ]
  },
  {
   "cell_type": "code",
   "execution_count": null,
   "id": "8b05cceb",
   "metadata": {},
   "outputs": [],
   "source": []
  },
  {
   "cell_type": "code",
   "execution_count": null,
   "id": "80f9b4c9",
   "metadata": {},
   "outputs": [],
   "source": []
  },
  {
   "cell_type": "code",
   "execution_count": null,
   "id": "179831e0",
   "metadata": {},
   "outputs": [],
   "source": []
  },
  {
   "cell_type": "code",
   "execution_count": null,
   "id": "9a7d8ca2",
   "metadata": {},
   "outputs": [],
   "source": []
  },
  {
   "cell_type": "code",
   "execution_count": null,
   "id": "a0fd2c48",
   "metadata": {},
   "outputs": [],
   "source": []
  },
  {
   "cell_type": "code",
   "execution_count": null,
   "id": "b4040ac4",
   "metadata": {},
   "outputs": [],
   "source": []
  },
  {
   "cell_type": "code",
   "execution_count": null,
   "id": "50e1f0a6",
   "metadata": {},
   "outputs": [],
   "source": []
  }
 ],
 "metadata": {
  "kernelspec": {
   "display_name": "Python 3 (ipykernel)",
   "language": "python",
   "name": "python3"
  },
  "language_info": {
   "codemirror_mode": {
    "name": "ipython",
    "version": 3
   },
   "file_extension": ".py",
   "mimetype": "text/x-python",
   "name": "python",
   "nbconvert_exporter": "python",
   "pygments_lexer": "ipython3",
   "version": "3.10.13"
  }
 },
 "nbformat": 4,
 "nbformat_minor": 5
}
