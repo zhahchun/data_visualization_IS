{
 "cells": [
  {
   "cell_type": "code",
   "execution_count": 20,
   "id": "9e409385",
   "metadata": {},
   "outputs": [],
   "source": [
    "import numpy as np\n",
    "import pandas as pd\n",
    "import seaborn as sns\n",
    "import datetime"
   ]
  },
  {
   "cell_type": "code",
   "execution_count": 21,
   "id": "5cc16ace",
   "metadata": {},
   "outputs": [],
   "source": [
    "earthquakes = pd.read_csv('catalog.csv')"
   ]
  },
  {
   "cell_type": "code",
   "execution_count": 22,
   "id": "5f24dd6d",
   "metadata": {},
   "outputs": [
    {
     "data": {
      "text/plain": [
       "0     3/2/2007\n",
       "1    3/22/2007\n",
       "2     4/6/2007\n",
       "3    4/14/2007\n",
       "4    4/15/2007\n",
       "Name: date, dtype: object"
      ]
     },
     "execution_count": 22,
     "metadata": {},
     "output_type": "execute_result"
    }
   ],
   "source": [
    "earthquakes['date'].head()"
   ]
  },
  {
   "cell_type": "code",
   "execution_count": 23,
   "id": "d753a6a4",
   "metadata": {},
   "outputs": [
    {
     "data": {
      "text/plain": [
       "date\n",
       "9.0     1075\n",
       "8.0      368\n",
       "10.0     247\n",
       "Name: count, dtype: int64"
      ]
     },
     "execution_count": 23,
     "metadata": {},
     "output_type": "execute_result"
    }
   ],
   "source": [
    "date_length = earthquakes.date.str.len()\n",
    "date_length.value_counts()"
   ]
  },
  {
   "cell_type": "code",
   "execution_count": 24,
   "id": "e9d2a548",
   "metadata": {},
   "outputs": [
    {
     "name": "stdout",
     "output_type": "stream",
     "text": [
      "Indices with corrupted data: [44 45 46 47 48]\n"
     ]
    },
    {
     "data": {
      "text/html": [
       "<div>\n",
       "<style scoped>\n",
       "    .dataframe tbody tr th:only-of-type {\n",
       "        vertical-align: middle;\n",
       "    }\n",
       "\n",
       "    .dataframe tbody tr th {\n",
       "        vertical-align: top;\n",
       "    }\n",
       "\n",
       "    .dataframe thead th {\n",
       "        text-align: right;\n",
       "    }\n",
       "</style>\n",
       "<table border=\"1\" class=\"dataframe\">\n",
       "  <thead>\n",
       "    <tr style=\"text-align: right;\">\n",
       "      <th></th>\n",
       "      <th>id</th>\n",
       "      <th>date</th>\n",
       "      <th>time</th>\n",
       "      <th>continent_code</th>\n",
       "      <th>country_name</th>\n",
       "      <th>country_code</th>\n",
       "      <th>state/province</th>\n",
       "      <th>population</th>\n",
       "      <th>city/town</th>\n",
       "      <th>distance</th>\n",
       "      <th>...</th>\n",
       "      <th>geolocation</th>\n",
       "      <th>hazard_type</th>\n",
       "      <th>landslide_type</th>\n",
       "      <th>landslide_size</th>\n",
       "      <th>trigger</th>\n",
       "      <th>storm_name</th>\n",
       "      <th>injuries</th>\n",
       "      <th>fatalities</th>\n",
       "      <th>source_name</th>\n",
       "      <th>source_link</th>\n",
       "    </tr>\n",
       "  </thead>\n",
       "  <tbody>\n",
       "    <tr>\n",
       "      <th>44</th>\n",
       "      <td>301</td>\n",
       "      <td>10/11/2007</td>\n",
       "      <td>NaN</td>\n",
       "      <td>NaN</td>\n",
       "      <td>Costa Rica</td>\n",
       "      <td>CR</td>\n",
       "      <td>Alajuela</td>\n",
       "      <td>7014</td>\n",
       "      <td>Atenas</td>\n",
       "      <td>3.08459</td>\n",
       "      <td>...</td>\n",
       "      <td>(9.9869000000000003, -84.406999999999996)</td>\n",
       "      <td>Landslide</td>\n",
       "      <td>Mudslide</td>\n",
       "      <td>Large</td>\n",
       "      <td>Rain</td>\n",
       "      <td>NaN</td>\n",
       "      <td>NaN</td>\n",
       "      <td>14.0</td>\n",
       "      <td>Agence France-Presse, afp.google.com</td>\n",
       "      <td>http://afp.google.com/article/ALeqM5hu6a8oyAM1...</td>\n",
       "    </tr>\n",
       "    <tr>\n",
       "      <th>45</th>\n",
       "      <td>302</td>\n",
       "      <td>10/11/2007</td>\n",
       "      <td>NaN</td>\n",
       "      <td>NaN</td>\n",
       "      <td>Costa Rica</td>\n",
       "      <td>CR</td>\n",
       "      <td>San José</td>\n",
       "      <td>26669</td>\n",
       "      <td>NaN</td>\n",
       "      <td>9.56251</td>\n",
       "      <td>...</td>\n",
       "      <td>(10.0214, -83.945099999999996)</td>\n",
       "      <td>Landslide</td>\n",
       "      <td>Landslide</td>\n",
       "      <td>Large</td>\n",
       "      <td>Rain</td>\n",
       "      <td>NaN</td>\n",
       "      <td>NaN</td>\n",
       "      <td>10.0</td>\n",
       "      <td>International Herald</td>\n",
       "      <td>http://www.iht.com/articles/ap/2007/10/12/amer...</td>\n",
       "    </tr>\n",
       "    <tr>\n",
       "      <th>46</th>\n",
       "      <td>303</td>\n",
       "      <td>10/12/2007</td>\n",
       "      <td>NaN</td>\n",
       "      <td>NaN</td>\n",
       "      <td>Haiti</td>\n",
       "      <td>HT</td>\n",
       "      <td>Ouest</td>\n",
       "      <td>3951</td>\n",
       "      <td>Cabaret</td>\n",
       "      <td>0.51272</td>\n",
       "      <td>...</td>\n",
       "      <td>(18.733499999999999, -72.413300000000007)</td>\n",
       "      <td>Landslide</td>\n",
       "      <td>Complex</td>\n",
       "      <td>Large</td>\n",
       "      <td>Rain</td>\n",
       "      <td>NaN</td>\n",
       "      <td>NaN</td>\n",
       "      <td>23.0</td>\n",
       "      <td>Euronews.net</td>\n",
       "      <td>http://www.euronews.net/index.php?page=info&amp;ar...</td>\n",
       "    </tr>\n",
       "    <tr>\n",
       "      <th>47</th>\n",
       "      <td>304</td>\n",
       "      <td>10/12/2007</td>\n",
       "      <td>NaN</td>\n",
       "      <td>NaN</td>\n",
       "      <td>Jamaica</td>\n",
       "      <td>JM</td>\n",
       "      <td>St. Elizabeth</td>\n",
       "      <td>1371</td>\n",
       "      <td>Maggotty</td>\n",
       "      <td>4.57363</td>\n",
       "      <td>...</td>\n",
       "      <td>(18.125699999999998, -77.740499999999997)</td>\n",
       "      <td>Landslide</td>\n",
       "      <td>Complex</td>\n",
       "      <td>Medium</td>\n",
       "      <td>Rain</td>\n",
       "      <td>NaN</td>\n",
       "      <td>NaN</td>\n",
       "      <td>NaN</td>\n",
       "      <td>RadioJamaica</td>\n",
       "      <td>http://www.radiojamaica.com/content/view/2039/26/</td>\n",
       "    </tr>\n",
       "    <tr>\n",
       "      <th>48</th>\n",
       "      <td>307</td>\n",
       "      <td>10/13/2007</td>\n",
       "      <td>NaN</td>\n",
       "      <td>SA</td>\n",
       "      <td>Colombia</td>\n",
       "      <td>CO</td>\n",
       "      <td>Cauca</td>\n",
       "      <td>9985</td>\n",
       "      <td>Suárez</td>\n",
       "      <td>8.46579</td>\n",
       "      <td>...</td>\n",
       "      <td>(2.9437000000000002, -76.771900000000002)</td>\n",
       "      <td>Landslide</td>\n",
       "      <td>Mudslide</td>\n",
       "      <td>Large</td>\n",
       "      <td>Continuous rain</td>\n",
       "      <td>NaN</td>\n",
       "      <td>NaN</td>\n",
       "      <td>24.0</td>\n",
       "      <td>Reuters - AlertNet.org</td>\n",
       "      <td>http://www.reuters.com/article/newsOne/idUSN13...</td>\n",
       "    </tr>\n",
       "  </tbody>\n",
       "</table>\n",
       "<p>5 rows × 23 columns</p>\n",
       "</div>"
      ],
      "text/plain": [
       "     id        date time continent_code country_name country_code  \\\n",
       "44  301  10/11/2007  NaN            NaN   Costa Rica           CR   \n",
       "45  302  10/11/2007  NaN            NaN   Costa Rica           CR   \n",
       "46  303  10/12/2007  NaN            NaN        Haiti           HT   \n",
       "47  304  10/12/2007  NaN            NaN      Jamaica           JM   \n",
       "48  307  10/13/2007  NaN             SA     Colombia           CO   \n",
       "\n",
       "   state/province  population city/town  distance  ...  \\\n",
       "44       Alajuela        7014    Atenas   3.08459  ...   \n",
       "45       San José       26669       NaN   9.56251  ...   \n",
       "46          Ouest        3951   Cabaret   0.51272  ...   \n",
       "47  St. Elizabeth        1371  Maggotty   4.57363  ...   \n",
       "48          Cauca        9985    Suárez   8.46579  ...   \n",
       "\n",
       "                                  geolocation  hazard_type  landslide_type  \\\n",
       "44  (9.9869000000000003, -84.406999999999996)    Landslide        Mudslide   \n",
       "45             (10.0214, -83.945099999999996)    Landslide       Landslide   \n",
       "46  (18.733499999999999, -72.413300000000007)    Landslide         Complex   \n",
       "47  (18.125699999999998, -77.740499999999997)    Landslide         Complex   \n",
       "48  (2.9437000000000002, -76.771900000000002)    Landslide        Mudslide   \n",
       "\n",
       "   landslide_size          trigger storm_name injuries fatalities  \\\n",
       "44          Large             Rain        NaN      NaN       14.0   \n",
       "45          Large             Rain        NaN      NaN       10.0   \n",
       "46          Large             Rain        NaN      NaN       23.0   \n",
       "47         Medium             Rain        NaN      NaN        NaN   \n",
       "48          Large  Continuous rain        NaN      NaN       24.0   \n",
       "\n",
       "                             source_name  \\\n",
       "44  Agence France-Presse, afp.google.com   \n",
       "45                  International Herald   \n",
       "46                          Euronews.net   \n",
       "47                          RadioJamaica   \n",
       "48                Reuters - AlertNet.org   \n",
       "\n",
       "                                          source_link  \n",
       "44  http://afp.google.com/article/ALeqM5hu6a8oyAM1...  \n",
       "45  http://www.iht.com/articles/ap/2007/10/12/amer...  \n",
       "46  http://www.euronews.net/index.php?page=info&ar...  \n",
       "47  http://www.radiojamaica.com/content/view/2039/26/  \n",
       "48  http://www.reuters.com/article/newsOne/idUSN13...  \n",
       "\n",
       "[5 rows x 23 columns]"
      ]
     },
     "execution_count": 24,
     "metadata": {},
     "output_type": "execute_result"
    }
   ],
   "source": [
    "indices = np.where([date_length == 10])[1]\n",
    "print('Indices with corrupted data:', indices[:5])\n",
    "earthquakes.loc[indices[:5]]"
   ]
  },
  {
   "cell_type": "code",
   "execution_count": 25,
   "id": "e0490e1c",
   "metadata": {},
   "outputs": [],
   "source": [
    "earthquakes['date_parsed'] = pd.to_datetime(earthquakes['date'], format = '%m/%d/%Y')"
   ]
  },
  {
   "cell_type": "code",
   "execution_count": 26,
   "id": "0744c613",
   "metadata": {},
   "outputs": [],
   "source": [
    "earthquakes['day'] = earthquakes['date_parsed'].dt.day\n",
    "day_of_month_earthquakes = earthquakes['day']\n",
    "# print(day_of_month_earthquakes)\n",
    "# print(earthquakes.head())"
   ]
  },
  {
   "cell_type": "code",
   "execution_count": 27,
   "id": "c5d24cdc",
   "metadata": {},
   "outputs": [
    {
     "name": "stderr",
     "output_type": "stream",
     "text": [
      "C:\\Users\\ftstc\\anaconda3\\envs\\lis875\\lib\\site-packages\\seaborn\\axisgrid.py:118: UserWarning: The figure layout has changed to tight\n",
      "  self._figure.tight_layout(*args, **kwargs)\n"
     ]
    },
    {
     "data": {
      "text/plain": [
       "<seaborn.axisgrid.FacetGrid at 0x14a74dd5ba0>"
      ]
     },
     "execution_count": 27,
     "metadata": {},
     "output_type": "execute_result"
    },
    {
     "data": {
      "image/png": "[encoded data removed]",
      "text/plain": [
       "<Figure size 500x500 with 1 Axes>"
      ]
     },
     "metadata": {},
     "output_type": "display_data"
    }
   ],
   "source": [
    "sns.displot(day_of_month_earthquakes, bins = 31)\n",
    "# sns.histplot(day_of_month_earthquakes)"
   ]
  },
  {
   "cell_type": "code",
   "execution_count": 28,
   "id": "a858bc85",
   "metadata": {},
   "outputs": [],
   "source": [
    "earthquakes.to_csv('catalog_cleaned.csv', index = False)"
   ]
  },
  {
   "cell_type": "code",
   "execution_count": null,
   "id": "66b4f49a",
   "metadata": {},
   "outputs": [],
   "source": []
  },
  {
   "cell_type": "code",
   "execution_count": null,
   "id": "e77e455a",
   "metadata": {},
   "outputs": [],
   "source": []
  },
  {
   "cell_type": "code",
   "execution_count": null,
   "id": "9e1ba8eb",
   "metadata": {},
   "outputs": [],
   "source": []
  },
  {
   "cell_type": "code",
   "execution_count": null,
   "id": "ac792218",
   "metadata": {},
   "outputs": [],
   "source": []
  },
  {
   "cell_type": "code",
   "execution_count": null,
   "id": "0b55d6f7",
   "metadata": {},
   "outputs": [],
   "source": []
  }
 ],
 "metadata": {
  "kernelspec": {
   "display_name": "Python 3 (ipykernel)",
   "language": "python",
   "name": "python3"
  },
  "language_info": {
   "codemirror_mode": {
    "name": "ipython",
    "version": 3
   },
   "file_extension": ".py",
   "mimetype": "text/x-python",
   "name": "python",
   "nbconvert_exporter": "python",
   "pygments_lexer": "ipython3",
   "version": "3.10.13"
  }
 },
 "nbformat": 4,
 "nbformat_minor": 5
}
